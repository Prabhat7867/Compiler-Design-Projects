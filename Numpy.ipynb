{
  "nbformat": 4,
  "nbformat_minor": 0,
  "metadata": {
    "colab": {
      "name": "Untitled17.ipynb",
      "provenance": [],
      "authorship_tag": "ABX9TyOlDmHo7jXKE8EwXXzWu6ue",
      "include_colab_link": true
    },
    "kernelspec": {
      "name": "python3",
      "display_name": "Python 3"
    },
    "language_info": {
      "name": "python"
    }
  },
  "cells": [
    {
      "cell_type": "markdown",
      "metadata": {
        "id": "view-in-github",
        "colab_type": "text"
      },
      "source": [
        "<a href=\"https://colab.research.google.com/github/Prabhat7867/Compiler-Design-Lab/blob/master/Numpy.ipynb\" target=\"_parent\"><img src=\"https://colab.research.google.com/assets/colab-badge.svg\" alt=\"Open In Colab\"/></a>"
      ]
    },
    {
      "cell_type": "code",
      "metadata": {
        "colab": {
          "base_uri": "https://localhost:8080/"
        },
        "id": "K0MVI59H64JS",
        "outputId": "42681d09-73ab-4b29-cecc-3d70e28ee388"
      },
      "source": [
        "import numpy as np\n",
        "ls=[10,20,30,40]\n",
        "a=np.array(ls)\n",
        "print(a)"
      ],
      "execution_count": 1,
      "outputs": [
        {
          "output_type": "stream",
          "text": [
            "[10 20 30 40]\n"
          ],
          "name": "stdout"
        }
      ]
    },
    {
      "cell_type": "code",
      "metadata": {
        "colab": {
          "base_uri": "https://localhost:8080/"
        },
        "id": "HewBLDQwCDx6",
        "outputId": "5133568b-3474-454d-e26b-4b1ffdd187dc"
      },
      "source": [
        "import numpy as np\n",
        "np.arange(2,32,4)"
      ],
      "execution_count": 7,
      "outputs": [
        {
          "output_type": "execute_result",
          "data": {
            "text/plain": [
              "array([ 2,  6, 10, 14, 18, 22, 26, 30])"
            ]
          },
          "metadata": {},
          "execution_count": 7
        }
      ]
    },
    {
      "cell_type": "code",
      "metadata": {
        "colab": {
          "base_uri": "https://localhost:8080/"
        },
        "id": "6taKl4JsCurr",
        "outputId": "94ef672d-d8df-4d7a-f16b-1a66a8c0763c"
      },
      "source": [
        "import numpy as np\n",
        "ls=[10,20,30,40]\n",
        "np.linspace(3,6,4)"
      ],
      "execution_count": 9,
      "outputs": [
        {
          "output_type": "execute_result",
          "data": {
            "text/plain": [
              "array([3., 4., 5., 6.])"
            ]
          },
          "metadata": {},
          "execution_count": 9
        }
      ]
    },
    {
      "cell_type": "code",
      "metadata": {
        "id": "NWffoCIeEQAc"
      },
      "source": [
        ""
      ],
      "execution_count": null,
      "outputs": []
    },
    {
      "cell_type": "code",
      "metadata": {
        "id": "Q6rXgyDjEP_L"
      },
      "source": [
        ""
      ],
      "execution_count": null,
      "outputs": []
    },
    {
      "cell_type": "code",
      "metadata": {
        "colab": {
          "base_uri": "https://localhost:8080/"
        },
        "id": "twYQL_KlENdI",
        "outputId": "c31aac3f-44ef-42fa-dad1-8bf2ac053ebf"
      },
      "source": [
        "np.arange(24).reshape(12,2)"
      ],
      "execution_count": 12,
      "outputs": [
        {
          "output_type": "execute_result",
          "data": {
            "text/plain": [
              "array([[ 0,  1],\n",
              "       [ 2,  3],\n",
              "       [ 4,  5],\n",
              "       [ 6,  7],\n",
              "       [ 8,  9],\n",
              "       [10, 11],\n",
              "       [12, 13],\n",
              "       [14, 15],\n",
              "       [16, 17],\n",
              "       [18, 19],\n",
              "       [20, 21],\n",
              "       [22, 23]])"
            ]
          },
          "metadata": {},
          "execution_count": 12
        }
      ]
    },
    {
      "cell_type": "code",
      "metadata": {
        "colab": {
          "base_uri": "https://localhost:8080/"
        },
        "id": "wt570ka9ErRw",
        "outputId": "c39a81c1-abb5-41ae-f770-2965f87e5565"
      },
      "source": [
        "np.arange(24).reshape(2,2,2,3)"
      ],
      "execution_count": 13,
      "outputs": [
        {
          "output_type": "execute_result",
          "data": {
            "text/plain": [
              "array([[[[ 0,  1,  2],\n",
              "         [ 3,  4,  5]],\n",
              "\n",
              "        [[ 6,  7,  8],\n",
              "         [ 9, 10, 11]]],\n",
              "\n",
              "\n",
              "       [[[12, 13, 14],\n",
              "         [15, 16, 17]],\n",
              "\n",
              "        [[18, 19, 20],\n",
              "         [21, 22, 23]]]])"
            ]
          },
          "metadata": {},
          "execution_count": 13
        }
      ]
    },
    {
      "cell_type": "code",
      "metadata": {
        "colab": {
          "base_uri": "https://localhost:8080/"
        },
        "id": "5ivNXI9dGBWr",
        "outputId": "0afa475b-cb0f-4423-f23e-9e683d72ebe7"
      },
      "source": [
        "a=np.arange(24).reshape(2,2,2,3)\n",
        "print(a)"
      ],
      "execution_count": 14,
      "outputs": [
        {
          "output_type": "stream",
          "text": [
            "[[[[ 0  1  2]\n",
            "   [ 3  4  5]]\n",
            "\n",
            "  [[ 6  7  8]\n",
            "   [ 9 10 11]]]\n",
            "\n",
            "\n",
            " [[[12 13 14]\n",
            "   [15 16 17]]\n",
            "\n",
            "  [[18 19 20]\n",
            "   [21 22 23]]]]\n"
          ],
          "name": "stdout"
        }
      ]
    },
    {
      "cell_type": "code",
      "metadata": {
        "colab": {
          "base_uri": "https://localhost:8080/"
        },
        "id": "l-hd5sAKG87t",
        "outputId": "5aac0dee-c588-4a7e-cb8b-2d280b293d54"
      },
      "source": [
        "a.size"
      ],
      "execution_count": 16,
      "outputs": [
        {
          "output_type": "execute_result",
          "data": {
            "text/plain": [
              "24"
            ]
          },
          "metadata": {},
          "execution_count": 16
        }
      ]
    },
    {
      "cell_type": "code",
      "metadata": {
        "colab": {
          "base_uri": "https://localhost:8080/"
        },
        "id": "MpcY9q8_HX7B",
        "outputId": "a1fe4094-905b-45e6-f6ca-856fb60aa96d"
      },
      "source": [
        "a.shape"
      ],
      "execution_count": 17,
      "outputs": [
        {
          "output_type": "execute_result",
          "data": {
            "text/plain": [
              "(2, 2, 2, 3)"
            ]
          },
          "metadata": {},
          "execution_count": 17
        }
      ]
    },
    {
      "cell_type": "code",
      "metadata": {
        "colab": {
          "base_uri": "https://localhost:8080/"
        },
        "id": "utjFPjOFHa6i",
        "outputId": "8e61d6b4-7014-410e-b9c4-a51c69023f19"
      },
      "source": [
        "a.ndim"
      ],
      "execution_count": 20,
      "outputs": [
        {
          "output_type": "execute_result",
          "data": {
            "text/plain": [
              "4"
            ]
          },
          "metadata": {},
          "execution_count": 20
        }
      ]
    },
    {
      "cell_type": "code",
      "metadata": {
        "colab": {
          "base_uri": "https://localhost:8080/"
        },
        "id": "WiJbDNhOIRaK",
        "outputId": "85f44855-0f9a-48ce-f352-4f716477aa0e"
      },
      "source": [
        "np.random.randint(2,9,20)"
      ],
      "execution_count": 21,
      "outputs": [
        {
          "output_type": "execute_result",
          "data": {
            "text/plain": [
              "array([2, 6, 7, 7, 6, 6, 4, 8, 7, 3, 2, 2, 6, 7, 5, 8, 8, 5, 6, 6])"
            ]
          },
          "metadata": {},
          "execution_count": 21
        }
      ]
    },
    {
      "cell_type": "code",
      "metadata": {
        "colab": {
          "base_uri": "https://localhost:8080/"
        },
        "id": "NS-DFEFrIjhc",
        "outputId": "b08525e8-f556-40e8-be69-d5aa524281ff"
      },
      "source": [
        "np.random.randint(2,9,(20,3))"
      ],
      "execution_count": 24,
      "outputs": [
        {
          "output_type": "execute_result",
          "data": {
            "text/plain": [
              "array([[2, 3, 4],\n",
              "       [6, 5, 2],\n",
              "       [7, 8, 6],\n",
              "       [8, 5, 4],\n",
              "       [8, 7, 7],\n",
              "       [2, 4, 5],\n",
              "       [6, 3, 3],\n",
              "       [5, 4, 7],\n",
              "       [3, 3, 5],\n",
              "       [7, 5, 6],\n",
              "       [3, 6, 8],\n",
              "       [2, 3, 8],\n",
              "       [5, 4, 3],\n",
              "       [4, 4, 5],\n",
              "       [3, 5, 2],\n",
              "       [4, 5, 3],\n",
              "       [6, 7, 7],\n",
              "       [3, 4, 7],\n",
              "       [6, 5, 5],\n",
              "       [6, 5, 2]])"
            ]
          },
          "metadata": {},
          "execution_count": 24
        }
      ]
    },
    {
      "cell_type": "code",
      "metadata": {
        "colab": {
          "base_uri": "https://localhost:8080/"
        },
        "id": "1Zo_e1ceJPsq",
        "outputId": "6c98c1f8-693d-4b34-8e81-8dc8c1f30a5e"
      },
      "source": [
        "np.random.randint(2,9,(2,3,4,5))"
      ],
      "execution_count": 28,
      "outputs": [
        {
          "output_type": "execute_result",
          "data": {
            "text/plain": [
              "array([[[[3, 5, 5, 2, 5],\n",
              "         [6, 2, 2, 2, 2],\n",
              "         [7, 3, 6, 6, 3],\n",
              "         [3, 8, 3, 3, 7]],\n",
              "\n",
              "        [[8, 5, 5, 7, 6],\n",
              "         [8, 2, 2, 5, 3],\n",
              "         [7, 8, 6, 6, 6],\n",
              "         [5, 7, 2, 3, 6]],\n",
              "\n",
              "        [[5, 5, 8, 5, 2],\n",
              "         [8, 7, 7, 6, 2],\n",
              "         [5, 4, 5, 6, 2],\n",
              "         [7, 5, 7, 2, 6]]],\n",
              "\n",
              "\n",
              "       [[[7, 5, 5, 7, 2],\n",
              "         [3, 7, 5, 2, 2],\n",
              "         [3, 6, 8, 7, 2],\n",
              "         [8, 4, 6, 4, 2]],\n",
              "\n",
              "        [[3, 5, 3, 2, 5],\n",
              "         [8, 6, 4, 8, 2],\n",
              "         [6, 7, 3, 2, 3],\n",
              "         [5, 8, 6, 5, 4]],\n",
              "\n",
              "        [[7, 7, 8, 5, 5],\n",
              "         [3, 2, 2, 5, 5],\n",
              "         [4, 2, 8, 2, 8],\n",
              "         [3, 2, 7, 8, 8]]]])"
            ]
          },
          "metadata": {},
          "execution_count": 28
        }
      ]
    }
  ]
}